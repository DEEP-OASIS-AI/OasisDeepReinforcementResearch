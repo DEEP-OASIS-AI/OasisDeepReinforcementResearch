{
 "cells": [
  {
   "cell_type": "code",
   "execution_count": 2,
   "metadata": {},
   "outputs": [
    {
     "name": "stdout",
     "output_type": "stream",
     "text": [
      "Collecting jupyter_http_over_ws\n",
      "  Downloading https://files.pythonhosted.org/packages/71/b8/d0047d068facc913a354d14c4664b0ba99b8f30f8d66a1800e98549c06ce/jupyter_http_over_ws-0.0.8-py2.py3-none-any.whl\n",
      "Requirement already satisfied: six>=1.6.0 in /snap/jupyter/6/lib/python3.7/site-packages (from jupyter_http_over_ws) (1.12.0)\n",
      "Requirement already satisfied: tornado>=4.5 in /snap/jupyter/6/lib/python3.7/site-packages (from jupyter_http_over_ws) (6.0.2)\n",
      "Requirement already satisfied: notebook>=5.0 in /snap/jupyter/6/lib/python3.7/site-packages (from jupyter_http_over_ws) (5.7.8)\n",
      "Requirement already satisfied: jupyter-client>=5.2.0 in /snap/jupyter/6/lib/python3.7/site-packages (from notebook>=5.0->jupyter_http_over_ws) (5.2.4)\n",
      "Requirement already satisfied: nbconvert in /snap/jupyter/6/lib/python3.7/site-packages (from notebook>=5.0->jupyter_http_over_ws) (5.5.0)\n",
      "Requirement already satisfied: Send2Trash in /snap/jupyter/6/lib/python3.7/site-packages (from notebook>=5.0->jupyter_http_over_ws) (1.5.0)\n",
      "Requirement already satisfied: terminado>=0.8.1 in /snap/jupyter/6/lib/python3.7/site-packages (from notebook>=5.0->jupyter_http_over_ws) (0.8.2)\n",
      "Requirement already satisfied: ipython-genutils in /snap/jupyter/6/lib/python3.7/site-packages (from notebook>=5.0->jupyter_http_over_ws) (0.2.0)\n",
      "Requirement already satisfied: jinja2 in /snap/jupyter/6/lib/python3.7/site-packages (from notebook>=5.0->jupyter_http_over_ws) (2.10.1)\n",
      "Requirement already satisfied: ipykernel in /snap/jupyter/6/lib/python3.7/site-packages (from notebook>=5.0->jupyter_http_over_ws) (5.1.1)\n",
      "Requirement already satisfied: pyzmq>=17 in /snap/jupyter/6/lib/python3.7/site-packages (from notebook>=5.0->jupyter_http_over_ws) (18.0.1)\n",
      "Requirement already satisfied: nbformat in /snap/jupyter/6/lib/python3.7/site-packages (from notebook>=5.0->jupyter_http_over_ws) (4.4.0)\n",
      "Requirement already satisfied: jupyter-core>=4.4.0 in /snap/jupyter/6/lib/python3.7/site-packages (from notebook>=5.0->jupyter_http_over_ws) (4.4.0)\n",
      "Requirement already satisfied: traitlets>=4.2.1 in /snap/jupyter/6/lib/python3.7/site-packages (from notebook>=5.0->jupyter_http_over_ws) (4.3.2)\n",
      "Requirement already satisfied: prometheus-client in /snap/jupyter/6/lib/python3.7/site-packages (from notebook>=5.0->jupyter_http_over_ws) (0.7.0)\n",
      "Requirement already satisfied: python-dateutil>=2.1 in /snap/jupyter/6/lib/python3.7/site-packages (from jupyter-client>=5.2.0->notebook>=5.0->jupyter_http_over_ws) (2.8.0)\n",
      "Requirement already satisfied: bleach in /snap/jupyter/6/lib/python3.7/site-packages (from nbconvert->notebook>=5.0->jupyter_http_over_ws) (3.1.0)\n",
      "Requirement already satisfied: entrypoints>=0.2.2 in /snap/jupyter/6/lib/python3.7/site-packages (from nbconvert->notebook>=5.0->jupyter_http_over_ws) (0.3)\n",
      "Requirement already satisfied: mistune>=0.8.1 in /snap/jupyter/6/lib/python3.7/site-packages (from nbconvert->notebook>=5.0->jupyter_http_over_ws) (0.8.4)\n",
      "Requirement already satisfied: pygments in /snap/jupyter/6/lib/python3.7/site-packages (from nbconvert->notebook>=5.0->jupyter_http_over_ws) (2.4.2)\n",
      "Requirement already satisfied: testpath in /snap/jupyter/6/lib/python3.7/site-packages (from nbconvert->notebook>=5.0->jupyter_http_over_ws) (0.4.2)\n",
      "Requirement already satisfied: defusedxml in /snap/jupyter/6/lib/python3.7/site-packages (from nbconvert->notebook>=5.0->jupyter_http_over_ws) (0.5.0)\n",
      "Requirement already satisfied: pandocfilters>=1.4.1 in /snap/jupyter/6/lib/python3.7/site-packages (from nbconvert->notebook>=5.0->jupyter_http_over_ws) (1.4.2)\n",
      "Requirement already satisfied: MarkupSafe>=0.23 in /snap/jupyter/6/lib/python3.7/site-packages (from jinja2->notebook>=5.0->jupyter_http_over_ws) (1.1.1)\n",
      "Requirement already satisfied: ipython>=5.0.0 in /snap/jupyter/6/lib/python3.7/site-packages (from ipykernel->notebook>=5.0->jupyter_http_over_ws) (7.5.0)\n",
      "Requirement already satisfied: jsonschema!=2.5.0,>=2.4 in /snap/jupyter/6/lib/python3.7/site-packages (from nbformat->notebook>=5.0->jupyter_http_over_ws) (3.0.1)\n",
      "Requirement already satisfied: decorator in /snap/jupyter/6/lib/python3.7/site-packages (from traitlets>=4.2.1->notebook>=5.0->jupyter_http_over_ws) (4.4.0)\n",
      "Requirement already satisfied: webencodings in /snap/jupyter/6/lib/python3.7/site-packages (from bleach->nbconvert->notebook>=5.0->jupyter_http_over_ws) (0.5.1)\n",
      "Requirement already satisfied: pickleshare in /snap/jupyter/6/lib/python3.7/site-packages (from ipython>=5.0.0->ipykernel->notebook>=5.0->jupyter_http_over_ws) (0.7.5)\n",
      "Requirement already satisfied: jedi>=0.10 in /snap/jupyter/6/lib/python3.7/site-packages (from ipython>=5.0.0->ipykernel->notebook>=5.0->jupyter_http_over_ws) (0.13.3)\n",
      "Requirement already satisfied: backcall in /snap/jupyter/6/lib/python3.7/site-packages (from ipython>=5.0.0->ipykernel->notebook>=5.0->jupyter_http_over_ws) (0.1.0)\n",
      "Requirement already satisfied: pexpect; sys_platform != \"win32\" in /snap/jupyter/6/lib/python3.7/site-packages (from ipython>=5.0.0->ipykernel->notebook>=5.0->jupyter_http_over_ws) (4.7.0)\n",
      "Requirement already satisfied: setuptools>=18.5 in /snap/jupyter/6/lib/python3.7/site-packages (from ipython>=5.0.0->ipykernel->notebook>=5.0->jupyter_http_over_ws) (41.0.1)\n",
      "Requirement already satisfied: prompt-toolkit<2.1.0,>=2.0.0 in /snap/jupyter/6/lib/python3.7/site-packages (from ipython>=5.0.0->ipykernel->notebook>=5.0->jupyter_http_over_ws) (2.0.9)\n",
      "Requirement already satisfied: attrs>=17.4.0 in /snap/jupyter/6/lib/python3.7/site-packages (from jsonschema!=2.5.0,>=2.4->nbformat->notebook>=5.0->jupyter_http_over_ws) (19.1.0)\n",
      "Requirement already satisfied: pyrsistent>=0.14.0 in /snap/jupyter/6/lib/python3.7/site-packages (from jsonschema!=2.5.0,>=2.4->nbformat->notebook>=5.0->jupyter_http_over_ws) (0.15.2)\n",
      "Requirement already satisfied: parso>=0.3.0 in /snap/jupyter/6/lib/python3.7/site-packages (from jedi>=0.10->ipython>=5.0.0->ipykernel->notebook>=5.0->jupyter_http_over_ws) (0.4.0)\n",
      "Requirement already satisfied: ptyprocess>=0.5 in /snap/jupyter/6/lib/python3.7/site-packages (from pexpect; sys_platform != \"win32\"->ipython>=5.0.0->ipykernel->notebook>=5.0->jupyter_http_over_ws) (0.6.0)\n",
      "Requirement already satisfied: wcwidth in /snap/jupyter/6/lib/python3.7/site-packages (from prompt-toolkit<2.1.0,>=2.0.0->ipython>=5.0.0->ipykernel->notebook>=5.0->jupyter_http_over_ws) (0.1.7)\n",
      "Installing collected packages: jupyter-http-over-ws\n",
      "Successfully installed jupyter-http-over-ws-0.0.8\n",
      "Enabling: jupyter_http_over_ws\n",
      "- Writing config: /home/reuben/snap/jupyter/6/.jupyter\n",
      "    - Validating...\n",
      "      jupyter_http_over_ws 0.0.7 \u001b[32mOK\u001b[0m\n"
     ]
    }
   ],
   "source": [
    "!pip install jupyter_http_over_ws\n",
    "!jupyter serverextension enable --py jupyter_http_over_ws"
   ]
  },
  {
   "cell_type": "code",
   "execution_count": null,
   "metadata": {},
   "outputs": [],
   "source": []
  }
 ],
 "metadata": {
  "kernelspec": {
   "display_name": "Python 3",
   "language": "python",
   "name": "python3"
  },
  "language_info": {
   "codemirror_mode": {
    "name": "ipython",
    "version": 3
   },
   "file_extension": ".py",
   "mimetype": "text/x-python",
   "name": "python",
   "nbconvert_exporter": "python",
   "pygments_lexer": "ipython3",
   "version": "3.7.3"
  }
 },
 "nbformat": 4,
 "nbformat_minor": 2
}
